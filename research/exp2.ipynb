{
 "cells": [
  {
   "cell_type": "code",
   "execution_count": 16,
   "metadata": {},
   "outputs": [],
   "source": [
    "import wikipediaapi\n",
    "article_titles=['2020 United States presidential election',\n",
    "   '2016 United States presidential election',\n",
    "   '2012 United States presidential election',\n",
    "   '2008 United States presidential election',\n",
    "   '2004 United States presidential election',\n",
    "   '2014 United States presidential election',\n",
    "   '2000 United States presidential election'\n",
    "   ]"
   ]
  },
  {
   "cell_type": "code",
   "execution_count": 13,
   "metadata": {},
   "outputs": [
    {
     "data": {
      "text/plain": [
       "''"
      ]
     },
     "execution_count": 13,
     "metadata": {},
     "output_type": "execute_result"
    }
   ],
   "source": [
    "raw_wiki= wikipediaapi.Wikipedia(\n",
    "        language='en',\n",
    "        extract_format=wikipediaapi.ExtractFormat.WIKI\n",
    ")\n",
    "\n",
    "raw_wiki.page(u).summary"
   ]
  },
  {
   "cell_type": "code",
   "execution_count": 15,
   "metadata": {},
   "outputs": [
    {
     "data": {
      "text/plain": [
       "True"
      ]
     },
     "execution_count": 15,
     "metadata": {},
     "output_type": "execute_result"
    }
   ],
   "source": [
    "not(raw_wiki.page('2023 United States presidential election').exists())"
   ]
  },
  {
   "cell_type": "code",
   "execution_count": 21,
   "metadata": {},
   "outputs": [
    {
     "name": "stderr",
     "output_type": "stream",
     "text": [
      "[2023-06-04 03:01:41,408]: Request URL: https://en.wikipedia.org/w/api.php?action=query&prop=info&titles=2000 United States presidential election&inprop=protection|talkid|watched|watchers|visitingwatchers|notificationtimestamp|subjectid|url|readable|preload|displaytitle:\n",
      "[2023-06-04 03:01:41,487]: Request URL: https://en.wikipedia.org/w/api.php?action=query&prop=extracts&titles=2000 United States presidential election&explaintext=1&exsectionformat=wiki:\n"
     ]
    }
   ],
   "source": [
    "import logging\n",
    "wiki_article_summary={}\n",
    "for article in article_titles:\n",
    "    if raw_wiki.page(article).exists():\n",
    "        article_desc = raw_wiki.page(article).summary\n",
    "        wiki_article_summary[article] = article_desc\n",
    "    else:\n",
    "        logging.basicConfig(level=logging.INFO,format='[%(asctime)s]: %(message)s:')\n",
    "        continue\n",
    "\n"
   ]
  },
  {
   "cell_type": "code",
   "execution_count": 20,
   "metadata": {},
   "outputs": [
    {
     "data": {
      "text/plain": [
       "dict_keys(['2020 United States presidential election', '2016 United States presidential election', '2012 United States presidential election', '2008 United States presidential election', '2004 United States presidential election', '2000 United States presidential election'])"
      ]
     },
     "execution_count": 20,
     "metadata": {},
     "output_type": "execute_result"
    }
   ],
   "source": [
    "wiki_article_summary.keys()"
   ]
  }
 ],
 "metadata": {
  "kernelspec": {
   "display_name": "twitter_scraping",
   "language": "python",
   "name": "python3"
  },
  "language_info": {
   "codemirror_mode": {
    "name": "ipython",
    "version": 3
   },
   "file_extension": ".py",
   "mimetype": "text/x-python",
   "name": "python",
   "nbconvert_exporter": "python",
   "pygments_lexer": "ipython3",
   "version": "3.9.16"
  },
  "orig_nbformat": 4,
  "vscode": {
   "interpreter": {
    "hash": "57178232ceb4d655b2935cd76bf8c680da0ea726c71cbfc8d7c7c5eef9d66ef8"
   }
  }
 },
 "nbformat": 4,
 "nbformat_minor": 2
}
