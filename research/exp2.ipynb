{
 "cells": [
  {
   "cell_type": "code",
   "execution_count": 1,
   "metadata": {},
   "outputs": [],
   "source": [
    "import wikipediaapi\n",
    "article_titles=['2020 United States presidential election',\n",
    "   '2016 United States presidential election',\n",
    "   '2012 United States presidential election',\n",
    "   '2008 United States presidential election',\n",
    "   '2004 United States presidential election',\n",
    "   '2014 United States presidential election',\n",
    "   '2000 United States presidential election'\n",
    "   ]"
   ]
  },
  {
   "cell_type": "code",
   "execution_count": 3,
   "metadata": {},
   "outputs": [],
   "source": [
    "raw_wiki= wikipediaapi.Wikipedia(\n",
    "        language='en',\n",
    "        extract_format=wikipediaapi.ExtractFormat.WIKI\n",
    ")\n",
    "\n"
   ]
  },
  {
   "cell_type": "code",
   "execution_count": 15,
   "metadata": {},
   "outputs": [
    {
     "data": {
      "text/plain": [
       "True"
      ]
     },
     "execution_count": 15,
     "metadata": {},
     "output_type": "execute_result"
    }
   ],
   "source": [
    "not(raw_wiki.page('2023 United States presidential election').exists())"
   ]
  },
  {
   "cell_type": "code",
   "execution_count": 5,
   "metadata": {},
   "outputs": [
    {
     "name": "stderr",
     "output_type": "stream",
     "text": [
      "[2023-06-05 17:19:45,159]: Request URL: https://en.wikipedia.org/w/api.php?action=query&prop=info&titles=2000 United States presidential election&inprop=protection|talkid|watched|watchers|visitingwatchers|notificationtimestamp|subjectid|url|readable|preload|displaytitle:\n",
      "[2023-06-05 17:19:45,266]: Request URL: https://en.wikipedia.org/w/api.php?action=query&prop=extracts&titles=2000 United States presidential election&explaintext=1&exsectionformat=wiki:\n"
     ]
    }
   ],
   "source": [
    "import logging\n",
    "import pandas as pd\n",
    "wiki_article_summary={}\n",
    "for article in article_titles:\n",
    "    if raw_wiki.page(article).exists():\n",
    "        article_desc = raw_wiki.page(article).summary\n",
    "        wiki_article_summary[article] = article_desc\n",
    "    else:\n",
    "        logging.basicConfig(level=logging.INFO,format='[%(asctime)s]: %(message)s:')\n",
    "        continue\n",
    "\n",
    "\n",
    "\n"
   ]
  },
  {
   "cell_type": "code",
   "execution_count": 6,
   "metadata": {},
   "outputs": [
    {
     "data": {
      "text/html": [
       "<div>\n",
       "<style scoped>\n",
       "    .dataframe tbody tr th:only-of-type {\n",
       "        vertical-align: middle;\n",
       "    }\n",
       "\n",
       "    .dataframe tbody tr th {\n",
       "        vertical-align: top;\n",
       "    }\n",
       "\n",
       "    .dataframe thead th {\n",
       "        text-align: right;\n",
       "    }\n",
       "</style>\n",
       "<table border=\"1\" class=\"dataframe\">\n",
       "  <thead>\n",
       "    <tr style=\"text-align: right;\">\n",
       "      <th></th>\n",
       "      <th>title</th>\n",
       "      <th>summary</th>\n",
       "    </tr>\n",
       "  </thead>\n",
       "  <tbody>\n",
       "    <tr>\n",
       "      <th>0</th>\n",
       "      <td>2020 United States presidential election</td>\n",
       "      <td>The 2020 United States presidential election w...</td>\n",
       "    </tr>\n",
       "    <tr>\n",
       "      <th>1</th>\n",
       "      <td>2016 United States presidential election</td>\n",
       "      <td>The 2016 United States presidential election w...</td>\n",
       "    </tr>\n",
       "    <tr>\n",
       "      <th>2</th>\n",
       "      <td>2012 United States presidential election</td>\n",
       "      <td>The 2012 United States presidential election w...</td>\n",
       "    </tr>\n",
       "    <tr>\n",
       "      <th>3</th>\n",
       "      <td>2008 United States presidential election</td>\n",
       "      <td>The 2008 United States presidential election w...</td>\n",
       "    </tr>\n",
       "    <tr>\n",
       "      <th>4</th>\n",
       "      <td>2004 United States presidential election</td>\n",
       "      <td>The 2004 United States presidential election w...</td>\n",
       "    </tr>\n",
       "    <tr>\n",
       "      <th>5</th>\n",
       "      <td>2000 United States presidential election</td>\n",
       "      <td>The 2000 United States presidential election w...</td>\n",
       "    </tr>\n",
       "  </tbody>\n",
       "</table>\n",
       "</div>"
      ],
      "text/plain": [
       "                                      title  \\\n",
       "0  2020 United States presidential election   \n",
       "1  2016 United States presidential election   \n",
       "2  2012 United States presidential election   \n",
       "3  2008 United States presidential election   \n",
       "4  2004 United States presidential election   \n",
       "5  2000 United States presidential election   \n",
       "\n",
       "                                             summary  \n",
       "0  The 2020 United States presidential election w...  \n",
       "1  The 2016 United States presidential election w...  \n",
       "2  The 2012 United States presidential election w...  \n",
       "3  The 2008 United States presidential election w...  \n",
       "4  The 2004 United States presidential election w...  \n",
       "5  The 2000 United States presidential election w...  "
      ]
     },
     "execution_count": 6,
     "metadata": {},
     "output_type": "execute_result"
    }
   ],
   "source": [
    "pd.DataFrame(wiki_article_summary.items(), columns=['title','summary'])"
   ]
  },
  {
   "cell_type": "code",
   "execution_count": null,
   "metadata": {},
   "outputs": [],
   "source": []
  }
 ],
 "metadata": {
  "kernelspec": {
   "display_name": "twitter_scraping",
   "language": "python",
   "name": "python3"
  },
  "language_info": {
   "codemirror_mode": {
    "name": "ipython",
    "version": 3
   },
   "file_extension": ".py",
   "mimetype": "text/x-python",
   "name": "python",
   "nbconvert_exporter": "python",
   "pygments_lexer": "ipython3",
   "version": "3.9.16"
  },
  "orig_nbformat": 4,
  "vscode": {
   "interpreter": {
    "hash": "57178232ceb4d655b2935cd76bf8c680da0ea726c71cbfc8d7c7c5eef9d66ef8"
   }
  }
 },
 "nbformat": 4,
 "nbformat_minor": 2
}
