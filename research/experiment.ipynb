{
 "cells": [
  {
   "cell_type": "code",
   "execution_count": 1,
   "metadata": {},
   "outputs": [],
   "source": [
    "import wikipediaapi"
   ]
  },
  {
   "cell_type": "code",
   "execution_count": 3,
   "metadata": {},
   "outputs": [],
   "source": [
    "wiki_wiki = wikipediaapi.Wikipedia(\n",
    "        language='en',\n",
    "        extract_format=wikipediaapi.ExtractFormat.WIKI\n",
    ")"
   ]
  },
  {
   "cell_type": "code",
   "execution_count": 97,
   "metadata": {},
   "outputs": [
    {
     "data": {
      "text/plain": [
       "List of elections in the United States (id: ??, ns: 0)"
      ]
     },
     "execution_count": 97,
     "metadata": {},
     "output_type": "execute_result"
    }
   ],
   "source": [
    "wiki_wiki.page(\"List of elections in the United States\")"
   ]
  },
  {
   "cell_type": "code",
   "execution_count": 118,
   "metadata": {},
   "outputs": [],
   "source": [
    "import requests\n",
    "\n",
    "S = requests.Session()\n",
    "\n",
    "URL = \"https://en.wikipedia.org/w/api.php\"\n",
    "\n",
    "SEARCHPAGE = \"United States presidential election\"\n",
    "\n",
    "PARAMS = {\n",
    "    \"action\": \"opensearch\",\n",
    "    \"namespace\": \"0\",\n",
    "    \n",
    "    \"limit\": \"5\",\n",
    "    \"format\": \"json\",\n",
    "    \"search\": SEARCHPAGE\n",
    "}\n",
    "\n",
    "R = S.get(url=URL, params=PARAMS)\n",
    "DATA = R.json()\n"
   ]
  },
  {
   "cell_type": "code",
   "execution_count": 119,
   "metadata": {},
   "outputs": [
    {
     "data": {
      "text/plain": [
       "['United States presidential election',\n",
       " ['United States presidential election',\n",
       "  'United States presidential elections in Florida',\n",
       "  'United States presidential elections in Arkansas',\n",
       "  'United States presidential elections in Arizona',\n",
       "  'United States presidential elections in the District of Columbia'],\n",
       " ['', '', '', '', ''],\n",
       " ['https://en.wikipedia.org/wiki/United_States_presidential_election',\n",
       "  'https://en.wikipedia.org/wiki/United_States_presidential_elections_in_Florida',\n",
       "  'https://en.wikipedia.org/wiki/United_States_presidential_elections_in_Arkansas',\n",
       "  'https://en.wikipedia.org/wiki/United_States_presidential_elections_in_Arizona',\n",
       "  'https://en.wikipedia.org/wiki/United_States_presidential_elections_in_the_District_of_Columbia']]"
      ]
     },
     "execution_count": 119,
     "metadata": {},
     "output_type": "execute_result"
    }
   ],
   "source": [
    "(DATA)"
   ]
  },
  {
   "cell_type": "code",
   "execution_count": 38,
   "metadata": {},
   "outputs": [
    {
     "data": {
      "text/plain": [
       "100"
      ]
     },
     "execution_count": 38,
     "metadata": {},
     "output_type": "execute_result"
    }
   ],
   "source": [
    "titles=[]\n",
    "for i in range(len(DATA['query']['search'])):\n",
    "    titles.append(DATA['query']['search'][i]['title'])\n",
    "len(titles)"
   ]
  },
  {
   "cell_type": "code",
   "execution_count": 39,
   "metadata": {},
   "outputs": [
    {
     "data": {
      "text/plain": [
       "['Elections in the United States',\n",
       " '2022 United States elections',\n",
       " '2020 United States elections',\n",
       " '2018 United States elections',\n",
       " '2024 United States elections',\n",
       " '2016 United States elections',\n",
       " '2008 United States elections',\n",
       " 'Russian interference in the 2016 United States elections',\n",
       " '2020 United States presidential election',\n",
       " '2004 United States presidential election',\n",
       " '2006 United States elections',\n",
       " 'Assessing Russian Activities and Intentions in Recent US Elections',\n",
       " '2012 United States elections',\n",
       " '2014 United States elections',\n",
       " '1984 United States presidential election',\n",
       " '2021 United States elections',\n",
       " '2010 United States elections',\n",
       " 'Timeline of Russian interference in the 2016 United States elections',\n",
       " '1932 United States presidential election',\n",
       " '1988 United States presidential election',\n",
       " '2000 United States elections',\n",
       " '1994 United States elections',\n",
       " '1964 United States presidential election',\n",
       " '2023 United States elections',\n",
       " '2002 United States elections',\n",
       " '1998 United States elections',\n",
       " '1990 United States elections',\n",
       " 'United States presidential election',\n",
       " '2004 United States elections',\n",
       " '1996 United States elections',\n",
       " 'Election Day (United States)',\n",
       " '1968 United States presidential election',\n",
       " '2024 United States presidential election',\n",
       " '1976 United States elections',\n",
       " 'Mueller special counsel investigation',\n",
       " '2016 United States presidential election',\n",
       " 'United States midterm election',\n",
       " '1982 United States elections',\n",
       " '2022 United States Senate elections',\n",
       " '1974 United States elections',\n",
       " '2018 United States Senate elections',\n",
       " '1978 United States elections',\n",
       " '1980 United States elections',\n",
       " '2012 United States presidential election',\n",
       " '1986 United States elections',\n",
       " '2008 United States presidential election',\n",
       " '1964 United States elections',\n",
       " '2017 United States elections',\n",
       " '1972 United States elections',\n",
       " '1968 United States elections',\n",
       " '1966 United States elections',\n",
       " '2020 United States presidential election in Massachusetts',\n",
       " 'Russian interference in the 2020 United States elections',\n",
       " 'Election',\n",
       " '2020 United States presidential election in the District of Columbia',\n",
       " 'Us Moderates',\n",
       " '1984 United States elections',\n",
       " '1962 United States elections',\n",
       " '2008 United States Senate elections',\n",
       " '1960 United States presidential election',\n",
       " '1992 United States elections',\n",
       " '2023 United States gubernatorial elections',\n",
       " '1970 United States elections',\n",
       " '2022 United States gubernatorial elections',\n",
       " '2016 United States Senate elections',\n",
       " '1988 United States elections',\n",
       " '2013 United States elections',\n",
       " '2020 United States presidential election in North Dakota',\n",
       " '2020 United States presidential election in Nebraska',\n",
       " '2020 United States presidential election in Louisiana',\n",
       " '2020 United States presidential election in Mississippi',\n",
       " '2020 United States presidential election in Illinois',\n",
       " '2020 United States presidential election in Oregon',\n",
       " '2000 United States presidential election',\n",
       " '2020 United States presidential election in Kentucky',\n",
       " '2020 United States presidential election in Delaware',\n",
       " '2020 United States presidential election in West Virginia',\n",
       " '1924 United States presidential election',\n",
       " '2021 United States gubernatorial elections',\n",
       " '2020 United States presidential election in Idaho',\n",
       " '2020 United States presidential election in New Mexico',\n",
       " '2020 United States presidential election in Kansas',\n",
       " '2020 United States presidential election in Wyoming',\n",
       " '2020 United States presidential election in Colorado',\n",
       " '2020 United States presidential election in New York',\n",
       " '2020 United States presidential election in Missouri',\n",
       " '2020 United States House of Representatives elections',\n",
       " '2020 United States Senate elections',\n",
       " '2020 United States presidential election in New Jersey',\n",
       " '2020 United States presidential election in Hawaii',\n",
       " '2020 United States presidential election in South Carolina',\n",
       " '2020 United States presidential election in Indiana',\n",
       " '2010 United States Senate elections',\n",
       " '1860 United States presidential election',\n",
       " '2020 United States presidential election in Oklahoma',\n",
       " '2020 United States presidential election in Connecticut',\n",
       " '2020 United States presidential election in Maryland',\n",
       " '2020 United States presidential election in Montana',\n",
       " '2012 United States House of Representatives elections',\n",
       " '2020 United States presidential election in North Carolina']"
      ]
     },
     "execution_count": 39,
     "metadata": {},
     "output_type": "execute_result"
    }
   ],
   "source": [
    "titles"
   ]
  },
  {
   "cell_type": "code",
   "execution_count": 17,
   "metadata": {},
   "outputs": [
    {
     "data": {
      "text/plain": [
       "'{\"batchcomplete\": \"\", \"continue\": {\"sroffset\": 10, \"continue\": \"-||\"}, \"query\": {\"searchinfo\": {\"totalhits\": 81743}, \"search\": [{\"ns\": 0, \"title\": \"Elections in the United States\", \"pageid\": 924170, \"size\": 67258, \"wordcount\": 8062, \"snippet\": \"state law, not federal, regulates most aspects of <span class=\\\\\"searchmatch\\\\\">elections</span> in the U.S., including primary <span class=\\\\\"searchmatch\\\\\">elections</span>, the eligibility of voters (beyond the basic constitutional\", \"timestamp\": \"2023-06-03T12:09:42Z\"}, {\"ns\": 0, \"title\": \"2022 United States elections\", \"pageid\": 52251217, \"size\": 297003, \"wordcount\": 24053, \"snippet\": \"territorial U.S. gubernatorial <span class=\\\\\"searchmatch\\\\\">elections</span>, as well as numerous state and local <span class=\\\\\"searchmatch\\\\\">elections</span>, were also contested. This was the first <span class=\\\\\"searchmatch\\\\\">election</span> affected by the 2022 U\", \"timestamp\": \"2023-06-03T23:29:13Z\"}, {\"ns\": 0, \"title\": \"2020 United States elections\", \"pageid\": 48417209, \"size\": 204132, \"wordcount\": 13527, \"snippet\": \"executive and judicial <span class=\\\\\"searchmatch\\\\\">elections</span>, as well as numerous referendums, tribal <span class=\\\\\"searchmatch\\\\\">elections</span>, mayoral <span class=\\\\\"searchmatch\\\\\">elections</span>, and other local <span class=\\\\\"searchmatch\\\\\">elections</span>, also took place in 2020\", \"timestamp\": \"2023-05-25T17:05:33Z\"}, {\"ns\": 0, \"title\": \"2018 United States elections\", \"pageid\": 38736935, \"size\": 145614, \"wordcount\": 11265, \"snippet\": \"The 2018 United States <span class=\\\\\"searchmatch\\\\\">elections</span> were held on Tuesday, November 6, 2018. These midterm <span class=\\\\\"searchmatch\\\\\">elections</span> occurred during Republican Donald Trump\\'s term. Although\", \"timestamp\": \"2023-05-15T18:45:46Z\"}, {\"ns\": 0, \"title\": \"2024 United States elections\", \"pageid\": 53256520, \"size\": 41629, \"wordcount\": 2080, \"snippet\": \"chamber will be up for <span class=\\\\\"searchmatch\\\\\">election</span>. In addition to gubernatorial <span class=\\\\\"searchmatch\\\\\">elections</span>, various other executive and judicial positions will hold <span class=\\\\\"searchmatch\\\\\">elections</span> at the state level\", \"timestamp\": \"2023-06-01T03:55:34Z\"}, {\"ns\": 0, \"title\": \"2016 United States elections\", \"pageid\": 38705343, \"size\": 50362, \"wordcount\": 2359, \"snippet\": \"record set in the 1921 <span class=\\\\\"searchmatch\\\\\">elections</span>. In 2016, 44 states held state legislative <span class=\\\\\"searchmatch\\\\\">elections</span>; 86 of the 99 chambers were up for <span class=\\\\\"searchmatch\\\\\">election</span>. Only six states did not\", \"timestamp\": \"2023-05-22T16:03:07Z\"}, {\"ns\": 0, \"title\": \"2008 United States elections\", \"pageid\": 13898020, \"size\": 12186, \"wordcount\": 1174, \"snippet\": \"They also won a net gain of one gubernatorial seat. The 2006 <span class=\\\\\"searchmatch\\\\\">elections</span> and 2008 <span class=\\\\\"searchmatch\\\\\">elections</span> represented the first time since 1936 that Democrats or any party\", \"timestamp\": \"2023-04-05T01:03:51Z\"}, {\"ns\": 0, \"title\": \"2020 United States presidential election\", \"pageid\": 48410011, \"size\": 429215, \"wordcount\": 32685, \"snippet\": \"primary <span class=\\\\\"searchmatch\\\\\">election</span>) to choose the candidate the party deems best suited to run for the position. Primary <span class=\\\\\"searchmatch\\\\\">elections</span> are usually indirect <span class=\\\\\"searchmatch\\\\\">elections</span> where voters\", \"timestamp\": \"2023-05-31T04:38:14Z\"}, {\"ns\": 0, \"title\": \"Russian interference in the 2016 United States elections\", \"pageid\": 52547512, \"size\": 380329, \"wordcount\": 36853, \"snippet\": \"the 2016 United States <span class=\\\\\"searchmatch\\\\\">elections</span> was a part of Putin\\'s &quot;asymmetric assault on democracy&quot; worldwide, including targeting <span class=\\\\\"searchmatch\\\\\">elections</span> in a number of countries\", \"timestamp\": \"2023-06-01T10:09:03Z\"}, {\"ns\": 0, \"title\": \"2004 United States presidential election\", \"pageid\": 1297662, \"size\": 134093, \"wordcount\": 8892, \"snippet\": \"Corrado Maria, <span class=\\\\\"searchmatch\\\\\">US</span> <span class=\\\\\"searchmatch\\\\\">elections</span> and war on terrorism (2004), Analisi Difesa, no. 50 Evan Thomas, Eleanor Clift, and Staff of Newsweek. <span class=\\\\\"searchmatch\\\\\">Election</span> 2004 (2005) Ceaser\", \"timestamp\": \"2023-06-02T18:38:52Z\"}]}}'"
      ]
     },
     "execution_count": 17,
     "metadata": {},
     "output_type": "execute_result"
    }
   ],
   "source": [
    "import json\n",
    "import pandas\n",
    "json.dumps(DATA)\n"
   ]
  }
 ],
 "metadata": {
  "kernelspec": {
   "display_name": "twitter_scraping",
   "language": "python",
   "name": "python3"
  },
  "language_info": {
   "codemirror_mode": {
    "name": "ipython",
    "version": 3
   },
   "file_extension": ".py",
   "mimetype": "text/x-python",
   "name": "python",
   "nbconvert_exporter": "python",
   "pygments_lexer": "ipython3",
   "version": "3.9.16"
  },
  "orig_nbformat": 4,
  "vscode": {
   "interpreter": {
    "hash": "57178232ceb4d655b2935cd76bf8c680da0ea726c71cbfc8d7c7c5eef9d66ef8"
   }
  }
 },
 "nbformat": 4,
 "nbformat_minor": 2
}
