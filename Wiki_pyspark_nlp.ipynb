{
  "nbformat": 4,
  "nbformat_minor": 0,
  "metadata": {
    "colab": {
      "provenance": []
    },
    "kernelspec": {
      "name": "python3",
      "display_name": "Python 3"
    },
    "language_info": {
      "name": "python"
    }
  },
  "cells": [
    {
      "cell_type": "code",
      "execution_count": 2,
      "metadata": {
        "colab": {
          "base_uri": "https://localhost:8080/"
        },
        "id": "DavtVg02b6DV",
        "outputId": "e1fc2fef-5090-4e3e-a608-88f9d9deaef2"
      },
      "outputs": [
        {
          "output_type": "stream",
          "name": "stdout",
          "text": [
            "Looking in indexes: https://pypi.org/simple, https://us-python.pkg.dev/colab-wheels/public/simple/\n",
            "Collecting pyspark\n",
            "  Downloading pyspark-3.4.0.tar.gz (310.8 MB)\n",
            "\u001b[2K     \u001b[90m━━━━━━━━━━━━━━━━━━━━━━━━━━━━━━━━━━━━━━━\u001b[0m \u001b[32m310.8/310.8 MB\u001b[0m \u001b[31m1.9 MB/s\u001b[0m eta \u001b[36m0:00:00\u001b[0m\n",
            "\u001b[?25h  Preparing metadata (setup.py) ... \u001b[?25l\u001b[?25hdone\n",
            "Requirement already satisfied: py4j==0.10.9.7 in /usr/local/lib/python3.10/dist-packages (from pyspark) (0.10.9.7)\n",
            "Building wheels for collected packages: pyspark\n",
            "  Building wheel for pyspark (setup.py) ... \u001b[?25l\u001b[?25hdone\n",
            "  Created wheel for pyspark: filename=pyspark-3.4.0-py2.py3-none-any.whl size=311317130 sha256=e7338a566567062f92632e87e5ff36deb2d240cc8c3147b0ca40fe7d4d119ff2\n",
            "  Stored in directory: /root/.cache/pip/wheels/7b/1b/4b/3363a1d04368e7ff0d408e57ff57966fcdf00583774e761327\n",
            "Successfully built pyspark\n",
            "Installing collected packages: pyspark\n",
            "Successfully installed pyspark-3.4.0\n"
          ]
        }
      ],
      "source": [
        "pip install pyspark"
      ]
    },
    {
      "cell_type": "code",
      "source": [
        "import pyspark\n",
        "from pyspark.sql import SparkSession \n",
        "from pyspark.sql.functions import *# col,lower,regexp_replace,split\n",
        "from pyspark.ml.feature import CountVectorizer, StopWordsRemover, RegexTokenizer,Tokenizer\n"
      ],
      "metadata": {
        "id": "slMHL1UOb_Yx"
      },
      "execution_count": 34,
      "outputs": []
    },
    {
      "cell_type": "code",
      "source": [
        "sc= SparkSession.builder\\\n",
        "    .appName('text_analysis')\\\n",
        "    .getOrCreate()"
      ],
      "metadata": {
        "id": "_uxU6tq5c09R"
      },
      "execution_count": 4,
      "outputs": []
    },
    {
      "cell_type": "code",
      "source": [
        "# File location and type\n",
        "file_location = \"/content/sample_data/wiki_data_20thCentury.csv\"\n",
        "file_type = \"csv\"\n",
        "\n",
        "# CSV options\n",
        "infer_schema = \"true\"\n",
        "first_row_is_header = \"true\"\n",
        "\n",
        "df = sc.read.format(file_type)\\\n",
        "      .option(\"inferSchema\", infer_schema)\\\n",
        "      .option(\"header\", first_row_is_header)\\\n",
        "      .option(\"escape\",'\\n')\\\n",
        "      .option(\"multiLine\",\"True\")\\\n",
        "      .option(\"wholeFile\",\"True\")\\\n",
        "      .option(\"parserLib\", \"univocity\")\\\n",
        "      .option(\"delimiter\",\",\")\\\n",
        "      .load(file_location)\n",
        "\n"
      ],
      "metadata": {
        "id": "ydkY9s-_b-Kh"
      },
      "execution_count": 5,
      "outputs": []
    },
    {
      "cell_type": "code",
      "source": [
        "# File location and type\n",
        "file_location = \"/content/sample_data/us_presidents.csv\"\n",
        "file_type = \"csv\"\n",
        "\n",
        "# CSV options\n",
        "infer_schema = \"true\"\n",
        "first_row_is_header = \"true\"\n",
        "\n",
        "us_presidents = sc.read.format(file_type)\\\n",
        "      .option(\"inferSchema\", infer_schema)\\\n",
        "      .option(\"header\", first_row_is_header)\\\n",
        "      .option(\"escape\",'\\n')\\\n",
        "      .option(\"multiLine\",\"True\")\\\n",
        "      .option(\"wholeFile\",\"True\")\\\n",
        "      .option(\"parserLib\", \"univocity\")\\\n",
        "      .option(\"delimiter\",\",\")\\\n",
        "      .load(file_location)\n",
        "\n"
      ],
      "metadata": {
        "id": "1cmw5uuGyIEG"
      },
      "execution_count": 6,
      "outputs": []
    },
    {
      "cell_type": "code",
      "source": [
        "us_presidents.show()"
      ],
      "metadata": {
        "colab": {
          "base_uri": "https://localhost:8080/"
        },
        "id": "na3PJ5w4yRfe",
        "outputId": "8dbfe452-336d-4599-8bc8-62428771d079"
      },
      "execution_count": 7,
      "outputs": [
        {
          "output_type": "stream",
          "name": "stdout",
          "text": [
            "+---+-----+--------------+------------------+------------+--------------------+--------------------+--------------------+--------------------+\n",
            "|_c0|S.No.|         start|               end|elected_year|           president|               prior|               party|                vice|\n",
            "+---+-----+--------------+------------------+------------+--------------------+--------------------+--------------------+--------------------+\n",
            "|  0|    1|April 30, 1789|     March 4, 1797|        null|   George Washington|Commander-in-Chie...|  Nonpartisan   [13]|          John Adams|\n",
            "|  1|    2| March 4, 1797|     March 4, 1801|        null|          John Adams|1st  Vice Preside...|          Federalist|    Thomas Jefferson|\n",
            "|  2|    3| March 4, 1801|     March 4, 1809|        null|    Thomas Jefferson|2nd  Vice Preside...|Democratic-  Repu...|          Aaron Burr|\n",
            "|  3|    4| March 4, 1809|     March 4, 1817|        null|       James Madison|5th  United State...|Democratic-  Repu...|      George Clinton|\n",
            "|  4|    5| March 4, 1817|     March 4, 1825|        null|        James Monroe|7th  United State...|Democratic-  Repu...|  Daniel D. Tompkins|\n",
            "|  5|    6| March 4, 1825|     March 4, 1829|        null|   John Quincy Adams|8th  United State...|Democratic-  Repu...|     John C. Calhoun|\n",
            "|  6|    7| March 4, 1829|     March 4, 1837|        null|      Andrew Jackson|U.S. Senator   ( ...|          Democratic|     John C. Calhoun|\n",
            "|  7|    8| March 4, 1837|     March 4, 1841|        null|    Martin Van Buren|8th  Vice Preside...|          Democratic|Richard Mentor Jo...|\n",
            "|  8|    9| March 4, 1841|     April 4, 1841|        null|William Henry Har...|United States Min...|                Whig|          John Tyler|\n",
            "|  9|   10| April 4, 1841|     March 4, 1845|        null|          John Tyler|10th  Vice Presid...|Whig   April 4, 1...|       Office vacant|\n",
            "| 10|   11| March 4, 1845|     March 4, 1849|        null|       James K. Polk|9th  Governor of ...|          Democratic|    George M. Dallas|\n",
            "| 11|   12| March 4, 1849|      July 9, 1850|        null|      Zachary Taylor|Major General  of...|                Whig|    Millard Fillmore|\n",
            "| 12|   13|  July 9, 1850|     March 4, 1853|        null|    Millard Fillmore|12th  Vice Presid...|                Whig|       Office vacant|\n",
            "| 13|   14| March 4, 1853|     March 4, 1857|        null|     Franklin Pierce|Brigadier General...|          Democratic|     William R. King|\n",
            "| 14|   15| March 4, 1857|     March 4, 1861|        null|      James Buchanan|United States Min...|          Democratic|John C. Breckinridge|\n",
            "| 15|   16| March 4, 1861|    April 15, 1865|        null|     Abraham Lincoln|U.S. Representati...|Republican   ( Na...|     Hannibal Hamlin|\n",
            "| 16|   17|April 15, 1865|     March 4, 1869|        null|      Andrew Johnson|16th  Vice Presid...|National Union   ...|       Office vacant|\n",
            "| 17|   18| March 4, 1869|     March 4, 1877|        null|    Ulysses S. Grant|Commanding Genera...|          Republican|     Schuyler Colfax|\n",
            "| 18|   19| March 4, 1877|     March 4, 1881|        null| Rutherford B. Hayes|29th & 32nd  Gove...|          Republican|  William A. Wheeler|\n",
            "| 19|   20| March 4, 1881|September 19, 1881|        null|   James A. Garfield|U.S. Representati...|          Republican|   Chester A. Arthur|\n",
            "+---+-----+--------------+------------------+------------+--------------------+--------------------+--------------------+--------------------+\n",
            "only showing top 20 rows\n",
            "\n"
          ]
        }
      ]
    },
    {
      "cell_type": "code",
      "source": [
        "# elected_year is the primary key, foreign key and will be used to join the tables.\n",
        "us_presidents=us_presidents.withColumn(\"elected_year\",split(col('start'),\" \")\n",
        "              .getItem(2)\n",
        "              .cast('Integer')\n",
        "              )\n",
        "us_presidents.show()"
      ],
      "metadata": {
        "colab": {
          "base_uri": "https://localhost:8080/"
        },
        "id": "Njgzy8im5ahB",
        "outputId": "4899a8e2-62e2-4f8a-9cd6-7e93b39a4d69"
      },
      "execution_count": 8,
      "outputs": [
        {
          "output_type": "stream",
          "name": "stdout",
          "text": [
            "+---+-----+--------------+------------------+------------+--------------------+--------------------+--------------------+--------------------+\n",
            "|_c0|S.No.|         start|               end|elected_year|           president|               prior|               party|                vice|\n",
            "+---+-----+--------------+------------------+------------+--------------------+--------------------+--------------------+--------------------+\n",
            "|  0|    1|April 30, 1789|     March 4, 1797|        1789|   George Washington|Commander-in-Chie...|  Nonpartisan   [13]|          John Adams|\n",
            "|  1|    2| March 4, 1797|     March 4, 1801|        1797|          John Adams|1st  Vice Preside...|          Federalist|    Thomas Jefferson|\n",
            "|  2|    3| March 4, 1801|     March 4, 1809|        1801|    Thomas Jefferson|2nd  Vice Preside...|Democratic-  Repu...|          Aaron Burr|\n",
            "|  3|    4| March 4, 1809|     March 4, 1817|        1809|       James Madison|5th  United State...|Democratic-  Repu...|      George Clinton|\n",
            "|  4|    5| March 4, 1817|     March 4, 1825|        1817|        James Monroe|7th  United State...|Democratic-  Repu...|  Daniel D. Tompkins|\n",
            "|  5|    6| March 4, 1825|     March 4, 1829|        1825|   John Quincy Adams|8th  United State...|Democratic-  Repu...|     John C. Calhoun|\n",
            "|  6|    7| March 4, 1829|     March 4, 1837|        1829|      Andrew Jackson|U.S. Senator   ( ...|          Democratic|     John C. Calhoun|\n",
            "|  7|    8| March 4, 1837|     March 4, 1841|        1837|    Martin Van Buren|8th  Vice Preside...|          Democratic|Richard Mentor Jo...|\n",
            "|  8|    9| March 4, 1841|     April 4, 1841|        1841|William Henry Har...|United States Min...|                Whig|          John Tyler|\n",
            "|  9|   10| April 4, 1841|     March 4, 1845|        1841|          John Tyler|10th  Vice Presid...|Whig   April 4, 1...|       Office vacant|\n",
            "| 10|   11| March 4, 1845|     March 4, 1849|        1845|       James K. Polk|9th  Governor of ...|          Democratic|    George M. Dallas|\n",
            "| 11|   12| March 4, 1849|      July 9, 1850|        1849|      Zachary Taylor|Major General  of...|                Whig|    Millard Fillmore|\n",
            "| 12|   13|  July 9, 1850|     March 4, 1853|        1850|    Millard Fillmore|12th  Vice Presid...|                Whig|       Office vacant|\n",
            "| 13|   14| March 4, 1853|     March 4, 1857|        1853|     Franklin Pierce|Brigadier General...|          Democratic|     William R. King|\n",
            "| 14|   15| March 4, 1857|     March 4, 1861|        1857|      James Buchanan|United States Min...|          Democratic|John C. Breckinridge|\n",
            "| 15|   16| March 4, 1861|    April 15, 1865|        1861|     Abraham Lincoln|U.S. Representati...|Republican   ( Na...|     Hannibal Hamlin|\n",
            "| 16|   17|April 15, 1865|     March 4, 1869|        1865|      Andrew Johnson|16th  Vice Presid...|National Union   ...|       Office vacant|\n",
            "| 17|   18| March 4, 1869|     March 4, 1877|        1869|    Ulysses S. Grant|Commanding Genera...|          Republican|     Schuyler Colfax|\n",
            "| 18|   19| March 4, 1877|     March 4, 1881|        1877| Rutherford B. Hayes|29th & 32nd  Gove...|          Republican|  William A. Wheeler|\n",
            "| 19|   20| March 4, 1881|September 19, 1881|        1881|   James A. Garfield|U.S. Representati...|          Republican|   Chester A. Arthur|\n",
            "+---+-----+--------------+------------------+------------+--------------------+--------------------+--------------------+--------------------+\n",
            "only showing top 20 rows\n",
            "\n"
          ]
        }
      ]
    },
    {
      "cell_type": "code",
      "source": [
        "# filtering the dateset, since we have information for only 19th century.\n",
        "us_presidents = us_presidents.filter(us_presidents.elected_year>=1900)\n",
        "us_presidents"
      ],
      "metadata": {
        "colab": {
          "base_uri": "https://localhost:8080/"
        },
        "id": "ZsD7kyto7ItP",
        "outputId": "911d05fc-24c5-463c-af82-e3caeca5dc1c"
      },
      "execution_count": 9,
      "outputs": [
        {
          "output_type": "execute_result",
          "data": {
            "text/plain": [
              "DataFrame[_c0: int, S.No.: int, start: string, end: string, elected_year: int, president: string, prior: string, party: string, vice: string]"
            ]
          },
          "metadata": {},
          "execution_count": 9
        }
      ]
    },
    {
      "cell_type": "code",
      "source": [
        "# since the elections dataset has +/-1 for elected_year.\n",
        "us_presidents=us_presidents.withColumn('elected_year_1',col('elected_year')%4)\n",
        "us_presidents.show()"
      ],
      "metadata": {
        "colab": {
          "base_uri": "https://localhost:8080/"
        },
        "id": "Sd6rhtx2cs1_",
        "outputId": "26771b10-c898-48bf-e489-88faa35dec86"
      },
      "execution_count": 10,
      "outputs": [
        {
          "output_type": "stream",
          "name": "stdout",
          "text": [
            "+---+-----+------------------+-----------------+------------+--------------------+--------------------+----------+------------------+--------------+\n",
            "|_c0|S.No.|             start|              end|elected_year|           president|               prior|     party|              vice|elected_year_1|\n",
            "+---+-----+------------------+-----------------+------------+--------------------+--------------------+----------+------------------+--------------+\n",
            "| 25|   26|September 14, 1901|    March 4, 1909|        1901|  Theodore Roosevelt|25th  Vice Presid...|Republican|     Office vacant|             1|\n",
            "| 26|   27|     March 4, 1909|    March 4, 1913|        1909| William Howard Taft|42nd  United Stat...|Republican|  James S. Sherman|             1|\n",
            "| 27|   28|     March 4, 1913|    March 4, 1921|        1913|      Woodrow Wilson|34th  Governor of...|Democratic|Thomas R. Marshall|             1|\n",
            "| 28|   29|     March 4, 1921|   August 2, 1923|        1921|   Warren G. Harding|U.S. Senator   ( ...|Republican|   Calvin Coolidge|             1|\n",
            "| 29|   30|    August 2, 1923|    March 4, 1929|        1923|     Calvin Coolidge|29th  Vice Presid...|Republican|     Office vacant|             3|\n",
            "| 30|   31|     March 4, 1929|    March 4, 1933|        1929|      Herbert Hoover|3rd  United State...|Republican|    Charles Curtis|             1|\n",
            "| 31|   32|     March 4, 1933| January 20, 1941|        1933|Franklin D. Roose...|44th  Governor of...|Democratic| John Nance Garner|             1|\n",
            "| 32|   33|    April 12, 1945| January 20, 1953|        1945|     Harry S. Truman|34th  Vice Presid...|Democratic|     Office vacant|             1|\n",
            "| 33|   34|  January 20, 1953| January 20, 1961|        1953|Dwight D. Eisenhower|Supreme Allied Co...|Republican|     Richard Nixon|             1|\n",
            "| 34|   35|  January 20, 1961|November 22, 1963|        1961|     John F. Kennedy|U.S. Senator   ( ...|Democratic| Lyndon B. Johnson|             1|\n",
            "| 35|   36| November 22, 1963| January 20, 1969|        1963|   Lyndon B. Johnson|37th  Vice Presid...|Democratic|     Office vacant|             3|\n",
            "| 36|   37|  January 20, 1969|   August 9, 1974|        1969|       Richard Nixon|36th  Vice Presid...|Republican|       Spiro Agnew|             1|\n",
            "| 37|   38|    August 9, 1974| January 20, 1977|        1974|         Gerald Ford|40th  Vice Presid...|Republican|     Office vacant|             2|\n",
            "| 38|   39|  January 20, 1977| January 20, 1981|        1977|        Jimmy Carter|76th  Governor of...|Democratic|    Walter Mondale|             1|\n",
            "| 39|   40|  January 20, 1981| January 20, 1989|        1981|       Ronald Reagan|33rd  Governor of...|Republican| George H. W. Bush|             1|\n",
            "| 40|   41|  January 20, 1989| January 20, 1993|        1989|   George H. W. Bush|43rd  Vice Presid...|Republican|        Dan Quayle|             1|\n",
            "| 41|   42|  January 20, 1993| January 20, 2001|        1993|        Bill Clinton|40th & 42nd  Gove...|Democratic|           Al Gore|             1|\n",
            "| 42|   43|  January 20, 2001| January 20, 2009|        2001|      George W. Bush|46th  Governor of...|Republican|       Dick Cheney|             1|\n",
            "| 43|   44|  January 20, 2009| January 20, 2017|        2009|        Barack Obama|U.S. Senator   ( ...|Democratic|         Joe Biden|             1|\n",
            "| 44|   45|  January 20, 2017| January 20, 2021|        2017|        Donald Trump|Chairman of   The...|Republican|        Mike Pence|             1|\n",
            "+---+-----+------------------+-----------------+------------+--------------------+--------------------+----------+------------------+--------------+\n",
            "\n"
          ]
        }
      ]
    },
    {
      "cell_type": "code",
      "source": [
        "us_presidents=us_presidents\\\n",
        ".withColumn('e_year',\n",
        "            when(us_presidents.elected_year_1 ==1,us_presidents.elected_year-1)\n",
        "            .when(us_presidents.elected_year_1==3,us_presidents.elected_year+1)\n",
        "            .otherwise(us_presidents.elected_year)\n",
        "            )\\\n",
        ".drop(us_presidents.elected_year)\\\n",
        ".drop(us_presidents.elected_year_1)\\\n",
        ".withColumnRenamed(\"e_year\", \"elected_year\")\n"
      ],
      "metadata": {
        "id": "uX3srid3_GYE"
      },
      "execution_count": 11,
      "outputs": []
    },
    {
      "cell_type": "code",
      "source": [
        "us_presidents.show()"
      ],
      "metadata": {
        "colab": {
          "base_uri": "https://localhost:8080/"
        },
        "id": "G1kJCAutk9Tg",
        "outputId": "4a6f0f00-aee0-412e-d195-b1e51b32a179"
      },
      "execution_count": 12,
      "outputs": [
        {
          "output_type": "stream",
          "name": "stdout",
          "text": [
            "+---+-----+------------------+-----------------+--------------------+--------------------+----------+------------------+------------+\n",
            "|_c0|S.No.|             start|              end|           president|               prior|     party|              vice|elected_year|\n",
            "+---+-----+------------------+-----------------+--------------------+--------------------+----------+------------------+------------+\n",
            "| 25|   26|September 14, 1901|    March 4, 1909|  Theodore Roosevelt|25th  Vice Presid...|Republican|     Office vacant|        1900|\n",
            "| 26|   27|     March 4, 1909|    March 4, 1913| William Howard Taft|42nd  United Stat...|Republican|  James S. Sherman|        1908|\n",
            "| 27|   28|     March 4, 1913|    March 4, 1921|      Woodrow Wilson|34th  Governor of...|Democratic|Thomas R. Marshall|        1912|\n",
            "| 28|   29|     March 4, 1921|   August 2, 1923|   Warren G. Harding|U.S. Senator   ( ...|Republican|   Calvin Coolidge|        1920|\n",
            "| 29|   30|    August 2, 1923|    March 4, 1929|     Calvin Coolidge|29th  Vice Presid...|Republican|     Office vacant|        1924|\n",
            "| 30|   31|     March 4, 1929|    March 4, 1933|      Herbert Hoover|3rd  United State...|Republican|    Charles Curtis|        1928|\n",
            "| 31|   32|     March 4, 1933| January 20, 1941|Franklin D. Roose...|44th  Governor of...|Democratic| John Nance Garner|        1932|\n",
            "| 32|   33|    April 12, 1945| January 20, 1953|     Harry S. Truman|34th  Vice Presid...|Democratic|     Office vacant|        1944|\n",
            "| 33|   34|  January 20, 1953| January 20, 1961|Dwight D. Eisenhower|Supreme Allied Co...|Republican|     Richard Nixon|        1952|\n",
            "| 34|   35|  January 20, 1961|November 22, 1963|     John F. Kennedy|U.S. Senator   ( ...|Democratic| Lyndon B. Johnson|        1960|\n",
            "| 35|   36| November 22, 1963| January 20, 1969|   Lyndon B. Johnson|37th  Vice Presid...|Democratic|     Office vacant|        1964|\n",
            "| 36|   37|  January 20, 1969|   August 9, 1974|       Richard Nixon|36th  Vice Presid...|Republican|       Spiro Agnew|        1968|\n",
            "| 37|   38|    August 9, 1974| January 20, 1977|         Gerald Ford|40th  Vice Presid...|Republican|     Office vacant|        1974|\n",
            "| 38|   39|  January 20, 1977| January 20, 1981|        Jimmy Carter|76th  Governor of...|Democratic|    Walter Mondale|        1976|\n",
            "| 39|   40|  January 20, 1981| January 20, 1989|       Ronald Reagan|33rd  Governor of...|Republican| George H. W. Bush|        1980|\n",
            "| 40|   41|  January 20, 1989| January 20, 1993|   George H. W. Bush|43rd  Vice Presid...|Republican|        Dan Quayle|        1988|\n",
            "| 41|   42|  January 20, 1993| January 20, 2001|        Bill Clinton|40th & 42nd  Gove...|Democratic|           Al Gore|        1992|\n",
            "| 42|   43|  January 20, 2001| January 20, 2009|      George W. Bush|46th  Governor of...|Republican|       Dick Cheney|        2000|\n",
            "| 43|   44|  January 20, 2009| January 20, 2017|        Barack Obama|U.S. Senator   ( ...|Democratic|         Joe Biden|        2008|\n",
            "| 44|   45|  January 20, 2017| January 20, 2021|        Donald Trump|Chairman of   The...|Republican|        Mike Pence|        2016|\n",
            "+---+-----+------------------+-----------------+--------------------+--------------------+----------+------------------+------------+\n",
            "\n"
          ]
        }
      ]
    },
    {
      "cell_type": "markdown",
      "source": [
        "The elected_year column has one issue to be handled before joining with elections table\n",
        "> If a president has served for more than 1 term consecutively, the corresponding rows are not created, instead a year range is given.\n"
      ],
      "metadata": {
        "id": "F1ksLg2vjsg2"
      }
    },
    {
      "cell_type": "code",
      "source": [
        "# gets the size of the date\n",
        "df.count()"
      ],
      "metadata": {
        "colab": {
          "base_uri": "https://localhost:8080/"
        },
        "id": "lRjtLBqDffDd",
        "outputId": "8caaae95-5e7e-4ff9-9130-c653225974c6"
      },
      "execution_count": 13,
      "outputs": [
        {
          "output_type": "execute_result",
          "data": {
            "text/plain": [
              "30"
            ]
          },
          "metadata": {},
          "execution_count": 13
        }
      ]
    },
    {
      "cell_type": "code",
      "source": [
        "#Convert to lowercase\n",
        "\n",
        "df=df.withColumn('summary',lower(col('summary')))\n",
        "df.show()"
      ],
      "metadata": {
        "colab": {
          "base_uri": "https://localhost:8080/"
        },
        "id": "g_6YPJzsdZpw",
        "outputId": "b2f7a094-2e96-4fc2-ce73-6cef4bb3e0a6"
      },
      "execution_count": 14,
      "outputs": [
        {
          "output_type": "stream",
          "name": "stdout",
          "text": [
            "+--------------------+-------+--------------------+\n",
            "|               title|country|             summary|\n",
            "+--------------------+-------+--------------------+\n",
            "|1900 United State...|    USA|the 1900 united s...|\n",
            "|1904 United State...|    USA|\"the 1904 united ...|\n",
            "|1908 United State...|    USA|the 1908 united s...|\n",
            "|1912 United State...|    USA|\"the 1912 united ...|\n",
            "|1916 United State...|    USA|\"the 1916 united ...|\n",
            "|1920 United State...|    USA|\"the 1920 united ...|\n",
            "|1924 United State...|    USA|\"the 1924 united ...|\n",
            "|1928 United State...|    USA|the 1928 united s...|\n",
            "|1932 United State...|    USA|\"the 1932 united ...|\n",
            "|1936 United State...|    USA|the 1936 united s...|\n",
            "|1940 United State...|    USA|the 1940 united s...|\n",
            "|1944 United State...|    USA|the 1944 united s...|\n",
            "|1948 United State...|    USA|\"the 1948 united ...|\n",
            "|1952 United State...|    USA|\"the 1952 united ...|\n",
            "|1956 United State...|    USA|\"the 1956 united ...|\n",
            "|1960 United State...|    USA|the 1960 united s...|\n",
            "|1964 United State...|    USA|\"the 1964 united ...|\n",
            "|1968 United State...|    USA|\"the 1968 united ...|\n",
            "|1972 United State...|    USA|the 1972 united s...|\n",
            "|1976 United State...|    USA|\"the 1976 united ...|\n",
            "+--------------------+-------+--------------------+\n",
            "only showing top 20 rows\n",
            "\n"
          ]
        }
      ]
    },
    {
      "cell_type": "markdown",
      "source": [
        "Feature Engineering"
      ],
      "metadata": {
        "id": "X3kYqNVkpBJX"
      }
    },
    {
      "cell_type": "code",
      "source": [
        "# Creating year column\n",
        "df = df.withColumn('election_year',split(df['title'],\" \").getItem(0))\n",
        "df.show()"
      ],
      "metadata": {
        "colab": {
          "base_uri": "https://localhost:8080/"
        },
        "id": "PMH3vtuokDxh",
        "outputId": "f5215ca1-54f6-4175-d279-c6d21b392734"
      },
      "execution_count": 15,
      "outputs": [
        {
          "output_type": "stream",
          "name": "stdout",
          "text": [
            "+--------------------+-------+--------------------+-------------+\n",
            "|               title|country|             summary|election_year|\n",
            "+--------------------+-------+--------------------+-------------+\n",
            "|1900 United State...|    USA|the 1900 united s...|         1900|\n",
            "|1904 United State...|    USA|\"the 1904 united ...|         1904|\n",
            "|1908 United State...|    USA|the 1908 united s...|         1908|\n",
            "|1912 United State...|    USA|\"the 1912 united ...|         1912|\n",
            "|1916 United State...|    USA|\"the 1916 united ...|         1916|\n",
            "|1920 United State...|    USA|\"the 1920 united ...|         1920|\n",
            "|1924 United State...|    USA|\"the 1924 united ...|         1924|\n",
            "|1928 United State...|    USA|the 1928 united s...|         1928|\n",
            "|1932 United State...|    USA|\"the 1932 united ...|         1932|\n",
            "|1936 United State...|    USA|the 1936 united s...|         1936|\n",
            "|1940 United State...|    USA|the 1940 united s...|         1940|\n",
            "|1944 United State...|    USA|the 1944 united s...|         1944|\n",
            "|1948 United State...|    USA|\"the 1948 united ...|         1948|\n",
            "|1952 United State...|    USA|\"the 1952 united ...|         1952|\n",
            "|1956 United State...|    USA|\"the 1956 united ...|         1956|\n",
            "|1960 United State...|    USA|the 1960 united s...|         1960|\n",
            "|1964 United State...|    USA|\"the 1964 united ...|         1964|\n",
            "|1968 United State...|    USA|\"the 1968 united ...|         1968|\n",
            "|1972 United State...|    USA|the 1972 united s...|         1972|\n",
            "|1976 United State...|    USA|\"the 1976 united ...|         1976|\n",
            "+--------------------+-------+--------------------+-------------+\n",
            "only showing top 20 rows\n",
            "\n"
          ]
        }
      ]
    },
    {
      "cell_type": "code",
      "source": [
        "# merging both tables\n",
        "combined_us_elections=df.join(us_presidents,df.election_year ==  us_presidents.elected_year,\"left\")\n",
        "combined_us_elections.show()\n"
      ],
      "metadata": {
        "colab": {
          "base_uri": "https://localhost:8080/"
        },
        "id": "wqNDN2qIpHt9",
        "outputId": "255913aa-dcbf-4de5-8842-c7158c6bbfcf"
      },
      "execution_count": 16,
      "outputs": [
        {
          "output_type": "stream",
          "name": "stdout",
          "text": [
            "+--------------------+-------+--------------------+-------------+----+-----+------------------+-----------------+--------------------+--------------------+----------+------------------+------------+\n",
            "|               title|country|             summary|election_year| _c0|S.No.|             start|              end|           president|               prior|     party|              vice|elected_year|\n",
            "+--------------------+-------+--------------------+-------------+----+-----+------------------+-----------------+--------------------+--------------------+----------+------------------+------------+\n",
            "|1900 United State...|    USA|the 1900 united s...|         1900|  25|   26|September 14, 1901|    March 4, 1909|  Theodore Roosevelt|25th  Vice Presid...|Republican|     Office vacant|        1900|\n",
            "|1904 United State...|    USA|\"the 1904 united ...|         1904|null| null|              null|             null|                null|                null|      null|              null|        null|\n",
            "|1908 United State...|    USA|the 1908 united s...|         1908|  26|   27|     March 4, 1909|    March 4, 1913| William Howard Taft|42nd  United Stat...|Republican|  James S. Sherman|        1908|\n",
            "|1912 United State...|    USA|\"the 1912 united ...|         1912|  27|   28|     March 4, 1913|    March 4, 1921|      Woodrow Wilson|34th  Governor of...|Democratic|Thomas R. Marshall|        1912|\n",
            "|1916 United State...|    USA|\"the 1916 united ...|         1916|null| null|              null|             null|                null|                null|      null|              null|        null|\n",
            "|1920 United State...|    USA|\"the 1920 united ...|         1920|  28|   29|     March 4, 1921|   August 2, 1923|   Warren G. Harding|U.S. Senator   ( ...|Republican|   Calvin Coolidge|        1920|\n",
            "|1924 United State...|    USA|\"the 1924 united ...|         1924|  29|   30|    August 2, 1923|    March 4, 1929|     Calvin Coolidge|29th  Vice Presid...|Republican|     Office vacant|        1924|\n",
            "|1928 United State...|    USA|the 1928 united s...|         1928|  30|   31|     March 4, 1929|    March 4, 1933|      Herbert Hoover|3rd  United State...|Republican|    Charles Curtis|        1928|\n",
            "|1932 United State...|    USA|\"the 1932 united ...|         1932|  31|   32|     March 4, 1933| January 20, 1941|Franklin D. Roose...|44th  Governor of...|Democratic| John Nance Garner|        1932|\n",
            "|1936 United State...|    USA|the 1936 united s...|         1936|null| null|              null|             null|                null|                null|      null|              null|        null|\n",
            "|1940 United State...|    USA|the 1940 united s...|         1940|null| null|              null|             null|                null|                null|      null|              null|        null|\n",
            "|1944 United State...|    USA|the 1944 united s...|         1944|  32|   33|    April 12, 1945| January 20, 1953|     Harry S. Truman|34th  Vice Presid...|Democratic|     Office vacant|        1944|\n",
            "|1948 United State...|    USA|\"the 1948 united ...|         1948|null| null|              null|             null|                null|                null|      null|              null|        null|\n",
            "|1952 United State...|    USA|\"the 1952 united ...|         1952|  33|   34|  January 20, 1953| January 20, 1961|Dwight D. Eisenhower|Supreme Allied Co...|Republican|     Richard Nixon|        1952|\n",
            "|1956 United State...|    USA|\"the 1956 united ...|         1956|null| null|              null|             null|                null|                null|      null|              null|        null|\n",
            "|1960 United State...|    USA|the 1960 united s...|         1960|  34|   35|  January 20, 1961|November 22, 1963|     John F. Kennedy|U.S. Senator   ( ...|Democratic| Lyndon B. Johnson|        1960|\n",
            "|1964 United State...|    USA|\"the 1964 united ...|         1964|  35|   36| November 22, 1963| January 20, 1969|   Lyndon B. Johnson|37th  Vice Presid...|Democratic|     Office vacant|        1964|\n",
            "|1968 United State...|    USA|\"the 1968 united ...|         1968|  36|   37|  January 20, 1969|   August 9, 1974|       Richard Nixon|36th  Vice Presid...|Republican|       Spiro Agnew|        1968|\n",
            "|1972 United State...|    USA|the 1972 united s...|         1972|null| null|              null|             null|                null|                null|      null|              null|        null|\n",
            "|1976 United State...|    USA|\"the 1976 united ...|         1976|  38|   39|  January 20, 1977| January 20, 1981|        Jimmy Carter|76th  Governor of...|Democratic|    Walter Mondale|        1976|\n",
            "+--------------------+-------+--------------------+-------------+----+-----+------------------+-----------------+--------------------+--------------------+----------+------------------+------------+\n",
            "only showing top 20 rows\n",
            "\n"
          ]
        }
      ]
    },
    {
      "cell_type": "code",
      "source": [
        "\n",
        "elections_data = combined_us_elections.select('country','election_year','president','party','summary')\n",
        "elections_data.show()"
      ],
      "metadata": {
        "colab": {
          "base_uri": "https://localhost:8080/"
        },
        "id": "jTiDj9WxmGiF",
        "outputId": "b827054c-c2d6-4df8-fb28-777994962bdb"
      },
      "execution_count": 17,
      "outputs": [
        {
          "output_type": "stream",
          "name": "stdout",
          "text": [
            "+-------+-------------+--------------------+----------+--------------------+\n",
            "|country|election_year|           president|     party|             summary|\n",
            "+-------+-------------+--------------------+----------+--------------------+\n",
            "|    USA|         1900|  Theodore Roosevelt|Republican|the 1900 united s...|\n",
            "|    USA|         1904|                null|      null|\"the 1904 united ...|\n",
            "|    USA|         1908| William Howard Taft|Republican|the 1908 united s...|\n",
            "|    USA|         1912|      Woodrow Wilson|Democratic|\"the 1912 united ...|\n",
            "|    USA|         1916|                null|      null|\"the 1916 united ...|\n",
            "|    USA|         1920|   Warren G. Harding|Republican|\"the 1920 united ...|\n",
            "|    USA|         1924|     Calvin Coolidge|Republican|\"the 1924 united ...|\n",
            "|    USA|         1928|      Herbert Hoover|Republican|the 1928 united s...|\n",
            "|    USA|         1932|Franklin D. Roose...|Democratic|\"the 1932 united ...|\n",
            "|    USA|         1936|                null|      null|the 1936 united s...|\n",
            "|    USA|         1940|                null|      null|the 1940 united s...|\n",
            "|    USA|         1944|     Harry S. Truman|Democratic|the 1944 united s...|\n",
            "|    USA|         1948|                null|      null|\"the 1948 united ...|\n",
            "|    USA|         1952|Dwight D. Eisenhower|Republican|\"the 1952 united ...|\n",
            "|    USA|         1956|                null|      null|\"the 1956 united ...|\n",
            "|    USA|         1960|     John F. Kennedy|Democratic|the 1960 united s...|\n",
            "|    USA|         1964|   Lyndon B. Johnson|Democratic|\"the 1964 united ...|\n",
            "|    USA|         1968|       Richard Nixon|Republican|\"the 1968 united ...|\n",
            "|    USA|         1972|                null|      null|the 1972 united s...|\n",
            "|    USA|         1976|        Jimmy Carter|Democratic|\"the 1976 united ...|\n",
            "+-------+-------------+--------------------+----------+--------------------+\n",
            "only showing top 20 rows\n",
            "\n"
          ]
        }
      ]
    },
    {
      "cell_type": "code",
      "source": [
        "from pyspark.sql import Window\n",
        "from pyspark.sql.functions import last\n",
        "\n",
        "# Creating the window and forward filling the missing values\n",
        "window = Window.partitionBy('country')\\\n",
        "               .orderBy('election_year')\\\n",
        "               .rowsBetween(-sys.maxsize, 0) # maxsize can be replace with 3 in this case, since the max consecutive nulls in the data is 3\n",
        "\n",
        "# president column\n",
        "president_na = last(elections_data['president'], ignorenulls=True).over(window)\n",
        "\n",
        "# imputing missing values\n",
        "president_na_filled = elections_data.withColumn('elected_president', president_na)\n",
        "\n",
        "# Party column\n",
        "party_na = last(president_na_filled['party'], ignorenulls=True).over(window)\n",
        "elections_df = president_na_filled.withColumn('candidate_party', party_na)\n",
        "\n",
        "elections_df = elections_df.drop('president','party')\n",
        "elections_df.show()      "
      ],
      "metadata": {
        "colab": {
          "base_uri": "https://localhost:8080/"
        },
        "id": "8FD21RdImvtD",
        "outputId": "9f1a4dfb-f498-474b-83a5-9565916e1111"
      },
      "execution_count": 18,
      "outputs": [
        {
          "output_type": "stream",
          "name": "stdout",
          "text": [
            "+-------+-------------+--------------------+--------------------+---------------+\n",
            "|country|election_year|             summary|   elected_president|candidate_party|\n",
            "+-------+-------------+--------------------+--------------------+---------------+\n",
            "|    USA|         1900|the 1900 united s...|  Theodore Roosevelt|     Republican|\n",
            "|    USA|         1904|\"the 1904 united ...|  Theodore Roosevelt|     Republican|\n",
            "|    USA|         1908|the 1908 united s...| William Howard Taft|     Republican|\n",
            "|    USA|         1912|\"the 1912 united ...|      Woodrow Wilson|     Democratic|\n",
            "|    USA|         1916|\"the 1916 united ...|      Woodrow Wilson|     Democratic|\n",
            "|    USA|         1920|\"the 1920 united ...|   Warren G. Harding|     Republican|\n",
            "|    USA|         1924|\"the 1924 united ...|     Calvin Coolidge|     Republican|\n",
            "|    USA|         1928|the 1928 united s...|      Herbert Hoover|     Republican|\n",
            "|    USA|         1932|\"the 1932 united ...|Franklin D. Roose...|     Democratic|\n",
            "|    USA|         1936|the 1936 united s...|Franklin D. Roose...|     Democratic|\n",
            "|    USA|         1940|the 1940 united s...|Franklin D. Roose...|     Democratic|\n",
            "|    USA|         1944|the 1944 united s...|     Harry S. Truman|     Democratic|\n",
            "|    USA|         1948|\"the 1948 united ...|     Harry S. Truman|     Democratic|\n",
            "|    USA|         1952|\"the 1952 united ...|Dwight D. Eisenhower|     Republican|\n",
            "|    USA|         1956|\"the 1956 united ...|Dwight D. Eisenhower|     Republican|\n",
            "|    USA|         1960|the 1960 united s...|     John F. Kennedy|     Democratic|\n",
            "|    USA|         1964|\"the 1964 united ...|   Lyndon B. Johnson|     Democratic|\n",
            "|    USA|         1968|\"the 1968 united ...|       Richard Nixon|     Republican|\n",
            "|    USA|         1972|the 1972 united s...|       Richard Nixon|     Republican|\n",
            "|    USA|         1976|\"the 1976 united ...|        Jimmy Carter|     Democratic|\n",
            "+-------+-------------+--------------------+--------------------+---------------+\n",
            "only showing top 20 rows\n",
            "\n"
          ]
        }
      ]
    },
    {
      "cell_type": "code",
      "source": [
        "elections_df = elections_df\\\n",
        "              .withColumn('elected_president',lower(col('elected_president')))\\\n",
        "              .withColumn('candidate_party',lower(col('candidate_party')))\n",
        "elections_df.show()"
      ],
      "metadata": {
        "colab": {
          "base_uri": "https://localhost:8080/"
        },
        "id": "FCCr0tWZr1Iy",
        "outputId": "4bb17545-f5cc-453c-bf75-841021bea655"
      },
      "execution_count": 20,
      "outputs": [
        {
          "output_type": "stream",
          "name": "stdout",
          "text": [
            "+-------+-------------+--------------------+--------------------+---------------+\n",
            "|country|election_year|             summary|   elected_president|candidate_party|\n",
            "+-------+-------------+--------------------+--------------------+---------------+\n",
            "|    USA|         1900|the 1900 united s...|  theodore roosevelt|     republican|\n",
            "|    USA|         1904|\"the 1904 united ...|  theodore roosevelt|     republican|\n",
            "|    USA|         1908|the 1908 united s...| william howard taft|     republican|\n",
            "|    USA|         1912|\"the 1912 united ...|      woodrow wilson|     democratic|\n",
            "|    USA|         1916|\"the 1916 united ...|      woodrow wilson|     democratic|\n",
            "|    USA|         1920|\"the 1920 united ...|   warren g. harding|     republican|\n",
            "|    USA|         1924|\"the 1924 united ...|     calvin coolidge|     republican|\n",
            "|    USA|         1928|the 1928 united s...|      herbert hoover|     republican|\n",
            "|    USA|         1932|\"the 1932 united ...|franklin d. roose...|     democratic|\n",
            "|    USA|         1936|the 1936 united s...|franklin d. roose...|     democratic|\n",
            "|    USA|         1940|the 1940 united s...|franklin d. roose...|     democratic|\n",
            "|    USA|         1944|the 1944 united s...|     harry s. truman|     democratic|\n",
            "|    USA|         1948|\"the 1948 united ...|     harry s. truman|     democratic|\n",
            "|    USA|         1952|\"the 1952 united ...|dwight d. eisenhower|     republican|\n",
            "|    USA|         1956|\"the 1956 united ...|dwight d. eisenhower|     republican|\n",
            "|    USA|         1960|the 1960 united s...|     john f. kennedy|     democratic|\n",
            "|    USA|         1964|\"the 1964 united ...|   lyndon b. johnson|     democratic|\n",
            "|    USA|         1968|\"the 1968 united ...|       richard nixon|     republican|\n",
            "|    USA|         1972|the 1972 united s...|       richard nixon|     republican|\n",
            "|    USA|         1976|\"the 1976 united ...|        jimmy carter|     democratic|\n",
            "+-------+-------------+--------------------+--------------------+---------------+\n",
            "only showing top 20 rows\n",
            "\n"
          ]
        }
      ]
    },
    {
      "cell_type": "code",
      "source": [
        "elections_df.withColumn('summary_length',length(col('summary'))).show()"
      ],
      "metadata": {
        "colab": {
          "base_uri": "https://localhost:8080/"
        },
        "id": "bR34SmudGRMP",
        "outputId": "eac38ec1-54d5-4331-a14b-24e97e630837"
      },
      "execution_count": 21,
      "outputs": [
        {
          "output_type": "stream",
          "name": "stdout",
          "text": [
            "+-------+-------------+--------------------+--------------------+---------------+--------------+\n",
            "|country|election_year|             summary|   elected_president|candidate_party|summary_length|\n",
            "+-------+-------------+--------------------+--------------------+---------------+--------------+\n",
            "|    USA|         1900|the 1900 united s...|  theodore roosevelt|     republican|          1816|\n",
            "|    USA|         1904|\"the 1904 united ...|  theodore roosevelt|     republican|          1499|\n",
            "|    USA|         1908|the 1908 united s...| william howard taft|     republican|          1390|\n",
            "|    USA|         1912|\"the 1912 united ...|      woodrow wilson|     democratic|           470|\n",
            "|    USA|         1916|\"the 1916 united ...|      woodrow wilson|     democratic|          2116|\n",
            "|    USA|         1920|\"the 1920 united ...|   warren g. harding|     republican|          2771|\n",
            "|    USA|         1924|\"the 1924 united ...|     calvin coolidge|     republican|          1153|\n",
            "|    USA|         1928|the 1928 united s...|      herbert hoover|     republican|          2105|\n",
            "|    USA|         1932|\"the 1932 united ...|franklin d. roose...|     democratic|          1802|\n",
            "|    USA|         1936|the 1936 united s...|franklin d. roose...|     democratic|          1334|\n",
            "|    USA|         1940|the 1940 united s...|franklin d. roose...|     democratic|          1893|\n",
            "|    USA|         1944|the 1944 united s...|     harry s. truman|     democratic|          1940|\n",
            "|    USA|         1948|\"the 1948 united ...|     harry s. truman|     democratic|          1071|\n",
            "|    USA|         1952|\"the 1952 united ...|dwight d. eisenhower|     republican|          1734|\n",
            "|    USA|         1956|\"the 1956 united ...|dwight d. eisenhower|     republican|          1388|\n",
            "|    USA|         1960|the 1960 united s...|     john f. kennedy|     democratic|          3958|\n",
            "|    USA|         1964|\"the 1964 united ...|   lyndon b. johnson|     democratic|          1655|\n",
            "|    USA|         1968|\"the 1968 united ...|       richard nixon|     republican|          1409|\n",
            "|    USA|         1972|the 1972 united s...|       richard nixon|     republican|          2211|\n",
            "|    USA|         1976|\"the 1976 united ...|        jimmy carter|     democratic|          1228|\n",
            "+-------+-------------+--------------------+--------------------+---------------+--------------+\n",
            "only showing top 20 rows\n",
            "\n"
          ]
        }
      ]
    },
    {
      "cell_type": "markdown",
      "source": [
        "#EDA"
      ],
      "metadata": {
        "id": "XuD-nAPzs5yO"
      }
    },
    {
      "cell_type": "markdown",
      "source": [
        "\n",
        "\n",
        "1.   Number of presidents\n",
        "2.   How many times each president is elected\n",
        "3.   Number of elections won by party\n",
        "4.   Presidents who have served more than 1 term\n",
        "\n"
      ],
      "metadata": {
        "id": "vVPQbhQBs9r7"
      }
    },
    {
      "cell_type": "markdown",
      "source": [
        "1. Number of distinct/unique values in each column"
      ],
      "metadata": {
        "id": "H5J14Hbc1Bad"
      }
    },
    {
      "cell_type": "code",
      "source": [
        "elections_df.agg(*(countDistinct(col(c)).alias(c) for c in elections_df.columns)).show()"
      ],
      "metadata": {
        "colab": {
          "base_uri": "https://localhost:8080/"
        },
        "id": "zBJAi0-Y1BEc",
        "outputId": "d1693f67-08df-4680-8db1-f67c205679c5"
      },
      "execution_count": 22,
      "outputs": [
        {
          "output_type": "stream",
          "name": "stdout",
          "text": [
            "+-------+-------------+-------+-----------------+---------------+\n",
            "|country|election_year|summary|elected_president|candidate_party|\n",
            "+-------+-------------+-------+-----------------+---------------+\n",
            "|      1|           30|     30|               19|              2|\n",
            "+-------+-------------+-------+-----------------+---------------+\n",
            "\n"
          ]
        }
      ]
    },
    {
      "cell_type": "markdown",
      "source": [
        "Total number of presidents that are elected since **1900**"
      ],
      "metadata": {
        "id": "8zRtzx1H22Dr"
      }
    },
    {
      "cell_type": "code",
      "source": [
        "elections_df.agg(countDistinct(col(\"elected_president\")).alias(\"Total_presidents_since_1900\")).show()"
      ],
      "metadata": {
        "colab": {
          "base_uri": "https://localhost:8080/"
        },
        "id": "WlZX3Kj42cRJ",
        "outputId": "bd339e11-c09a-41d4-fffc-12e518ed4291"
      },
      "execution_count": 23,
      "outputs": [
        {
          "output_type": "stream",
          "name": "stdout",
          "text": [
            "+---------------------------+\n",
            "|Total_presidents_since_1900|\n",
            "+---------------------------+\n",
            "|                         19|\n",
            "+---------------------------+\n",
            "\n"
          ]
        }
      ]
    },
    {
      "cell_type": "markdown",
      "source": [
        "2. Number of times each president is elected"
      ],
      "metadata": {
        "id": "wLYD7dPH04fZ"
      }
    },
    {
      "cell_type": "code",
      "source": [
        "pres_cnt= elections_df\\\n",
        "                    .groupby('elected_president')\\\n",
        "                    .count()\n",
        "pres_cnt.show()"
      ],
      "metadata": {
        "colab": {
          "base_uri": "https://localhost:8080/"
        },
        "id": "V2PW4_uds5KK",
        "outputId": "194e28ca-66d2-4049-ed75-36625cba7a12"
      },
      "execution_count": 24,
      "outputs": [
        {
          "output_type": "stream",
          "name": "stdout",
          "text": [
            "+--------------------+-----+\n",
            "|   elected_president|count|\n",
            "+--------------------+-----+\n",
            "|        bill clinton|    2|\n",
            "|       richard nixon|    2|\n",
            "|  theodore roosevelt|    2|\n",
            "| william howard taft|    1|\n",
            "|dwight d. eisenhower|    2|\n",
            "|        jimmy carter|    1|\n",
            "|   warren g. harding|    1|\n",
            "|       ronald reagan|    2|\n",
            "|     harry s. truman|    2|\n",
            "|     john f. kennedy|    1|\n",
            "|franklin d. roose...|    3|\n",
            "|   lyndon b. johnson|    1|\n",
            "|      george w. bush|    2|\n",
            "|        donald trump|    1|\n",
            "|     calvin coolidge|    1|\n",
            "|      woodrow wilson|    2|\n",
            "|      herbert hoover|    1|\n",
            "|   george h. w. bush|    1|\n",
            "|        barack obama|    2|\n",
            "+--------------------+-----+\n",
            "\n"
          ]
        }
      ]
    },
    {
      "cell_type": "markdown",
      "source": [
        "3. Number of elections won by party"
      ],
      "metadata": {
        "id": "RWuCzJfg3QYw"
      }
    },
    {
      "cell_type": "code",
      "source": [
        "elections_df\\\n",
        "            .groupby('candidate_party')\\\n",
        "            .count()\\\n",
        "            .alias('#presidents')\\\n",
        "            .show()"
      ],
      "metadata": {
        "colab": {
          "base_uri": "https://localhost:8080/"
        },
        "id": "LDdoYUWi3Pvr",
        "outputId": "c38d3187-0172-472f-f445-0b135cdf938a"
      },
      "execution_count": 25,
      "outputs": [
        {
          "output_type": "stream",
          "name": "stdout",
          "text": [
            "+---------------+-----+\n",
            "|candidate_party|count|\n",
            "+---------------+-----+\n",
            "|     republican|   16|\n",
            "|     democratic|   14|\n",
            "+---------------+-----+\n",
            "\n"
          ]
        }
      ]
    },
    {
      "cell_type": "markdown",
      "source": [
        "4. Presidents who have served more than 1 term"
      ],
      "metadata": {
        "id": "i2pumNpo4klg"
      }
    },
    {
      "cell_type": "code",
      "source": [
        "pres_cnt.where(col('count')>1)\\\n",
        "        .sort(col('count').desc())\\\n",
        "        .show()"
      ],
      "metadata": {
        "colab": {
          "base_uri": "https://localhost:8080/"
        },
        "id": "JYWjLEDv4kR4",
        "outputId": "4ce3355b-eec3-4eae-dae6-09136d29cb02"
      },
      "execution_count": 26,
      "outputs": [
        {
          "output_type": "stream",
          "name": "stdout",
          "text": [
            "+--------------------+-----+\n",
            "|   elected_president|count|\n",
            "+--------------------+-----+\n",
            "|franklin d. roose...|    3|\n",
            "|        bill clinton|    2|\n",
            "|       richard nixon|    2|\n",
            "|  theodore roosevelt|    2|\n",
            "|dwight d. eisenhower|    2|\n",
            "|       ronald reagan|    2|\n",
            "|     harry s. truman|    2|\n",
            "|      george w. bush|    2|\n",
            "|      woodrow wilson|    2|\n",
            "|        barack obama|    2|\n",
            "+--------------------+-----+\n",
            "\n"
          ]
        }
      ]
    },
    {
      "cell_type": "markdown",
      "source": [
        "Cleaning up the summary"
      ],
      "metadata": {
        "id": "8hseVkQqrn1M"
      }
    },
    {
      "cell_type": "code",
      "source": [
        "nlp_df = elections_df.withColumn('len_summary',length(col('summary')))\n",
        "nlp_df.show()"
      ],
      "metadata": {
        "colab": {
          "base_uri": "https://localhost:8080/"
        },
        "id": "_gZxcu3UpDS4",
        "outputId": "6339d2cf-a5d7-4209-8d6f-4f652daaa15a"
      },
      "execution_count": 31,
      "outputs": [
        {
          "output_type": "stream",
          "name": "stdout",
          "text": [
            "+-------+-------------+--------------------+--------------------+---------------+-----------+\n",
            "|country|election_year|             summary|   elected_president|candidate_party|len_summary|\n",
            "+-------+-------------+--------------------+--------------------+---------------+-----------+\n",
            "|    USA|         1900|the 1900 united s...|  theodore roosevelt|     republican|       1816|\n",
            "|    USA|         1904|\"the 1904 united ...|  theodore roosevelt|     republican|       1499|\n",
            "|    USA|         1908|the 1908 united s...| william howard taft|     republican|       1390|\n",
            "|    USA|         1912|\"the 1912 united ...|      woodrow wilson|     democratic|        470|\n",
            "|    USA|         1916|\"the 1916 united ...|      woodrow wilson|     democratic|       2116|\n",
            "|    USA|         1920|\"the 1920 united ...|   warren g. harding|     republican|       2771|\n",
            "|    USA|         1924|\"the 1924 united ...|     calvin coolidge|     republican|       1153|\n",
            "|    USA|         1928|the 1928 united s...|      herbert hoover|     republican|       2105|\n",
            "|    USA|         1932|\"the 1932 united ...|franklin d. roose...|     democratic|       1802|\n",
            "|    USA|         1936|the 1936 united s...|franklin d. roose...|     democratic|       1334|\n",
            "|    USA|         1940|the 1940 united s...|franklin d. roose...|     democratic|       1893|\n",
            "|    USA|         1944|the 1944 united s...|     harry s. truman|     democratic|       1940|\n",
            "|    USA|         1948|\"the 1948 united ...|     harry s. truman|     democratic|       1071|\n",
            "|    USA|         1952|\"the 1952 united ...|dwight d. eisenhower|     republican|       1734|\n",
            "|    USA|         1956|\"the 1956 united ...|dwight d. eisenhower|     republican|       1388|\n",
            "|    USA|         1960|the 1960 united s...|     john f. kennedy|     democratic|       3958|\n",
            "|    USA|         1964|\"the 1964 united ...|   lyndon b. johnson|     democratic|       1655|\n",
            "|    USA|         1968|\"the 1968 united ...|       richard nixon|     republican|       1409|\n",
            "|    USA|         1972|the 1972 united s...|       richard nixon|     republican|       2211|\n",
            "|    USA|         1976|\"the 1976 united ...|        jimmy carter|     democratic|       1228|\n",
            "+-------+-------------+--------------------+--------------------+---------------+-----------+\n",
            "only showing top 20 rows\n",
            "\n"
          ]
        }
      ]
    },
    {
      "cell_type": "code",
      "source": [
        "nlp_df\\\n",
        "      .groupBy('candidate_party')\\\n",
        "      .avg('len_summary')\\\n",
        "      .alias('mean_len_summary')\\\n",
        "      .show()\n"
      ],
      "metadata": {
        "colab": {
          "base_uri": "https://localhost:8080/"
        },
        "id": "bqWvEpKRnol6",
        "outputId": "ec902add-6c61-497f-d4f9-c5b6d2b5ce99"
      },
      "execution_count": 33,
      "outputs": [
        {
          "output_type": "stream",
          "name": "stdout",
          "text": [
            "+---------------+------------------+\n",
            "|candidate_party|  avg(len_summary)|\n",
            "+---------------+------------------+\n",
            "|     republican|         1789.6875|\n",
            "|     democratic|2020.7142857142858|\n",
            "+---------------+------------------+\n",
            "\n"
          ]
        }
      ]
    },
    {
      "cell_type": "markdown",
      "source": [
        "Removing punctuations, symbols from summary"
      ],
      "metadata": {
        "id": "8d2bYmbJsngA"
      }
    },
    {
      "cell_type": "code",
      "source": [
        "nlp_df = nlp_df.withColumn(\"cleaned_summary\", \n",
        "                            regexp_replace(\n",
        "                                          \"summary\",\n",
        "                                          r\"\"\"[!\\\"#$%&'()*+,\\-.\\/:;<=>?@\\[\\\\\\]^_`{|}~]\"\"\",\" \"\n",
        "                                          )\n",
        "                          )"
      ],
      "metadata": {
        "id": "lIp0Knrdsm30"
      },
      "execution_count": 47,
      "outputs": []
    },
    {
      "cell_type": "markdown",
      "source": [
        "Creating tokens for the summary"
      ],
      "metadata": {
        "id": "aPc7X2IoqIjw"
      }
    },
    {
      "cell_type": "code",
      "source": [
        "tokenizer = Tokenizer(inputCol='cleaned_summary',outputCol='summary_tokens')\n",
        "df_tokens= tokenizer.transform(nlp_df)\n",
        "df_tokens.show()"
      ],
      "metadata": {
        "colab": {
          "base_uri": "https://localhost:8080/"
        },
        "id": "dCzho2PPo-eT",
        "outputId": "6fc3f5b7-df62-42b6-dff4-d398eaab4dea"
      },
      "execution_count": 49,
      "outputs": [
        {
          "output_type": "stream",
          "name": "stdout",
          "text": [
            "+-------+-------------+--------------------+--------------------+---------------+-----------+--------------------+--------------------+\n",
            "|country|election_year|             summary|   elected_president|candidate_party|len_summary|     cleaned_summary|      summary_tokens|\n",
            "+-------+-------------+--------------------+--------------------+---------------+-----------+--------------------+--------------------+\n",
            "|    USA|         1900|the 1900 united s...|  theodore roosevelt|     republican|       1816|the 1900 united s...|[the, 1900, unite...|\n",
            "|    USA|         1904|\"the 1904 united ...|  theodore roosevelt|     republican|       1499| the 1904 united ...|[, the, 1904, uni...|\n",
            "|    USA|         1908|the 1908 united s...| william howard taft|     republican|       1390|the 1908 united s...|[the, 1908, unite...|\n",
            "|    USA|         1912|\"the 1912 united ...|      woodrow wilson|     democratic|        470| the 1912 united ...|[, the, 1912, uni...|\n",
            "|    USA|         1916|\"the 1916 united ...|      woodrow wilson|     democratic|       2116| the 1916 united ...|[, the, 1916, uni...|\n",
            "|    USA|         1920|\"the 1920 united ...|   warren g. harding|     republican|       2771| the 1920 united ...|[, the, 1920, uni...|\n",
            "|    USA|         1924|\"the 1924 united ...|     calvin coolidge|     republican|       1153| the 1924 united ...|[, the, 1924, uni...|\n",
            "|    USA|         1928|the 1928 united s...|      herbert hoover|     republican|       2105|the 1928 united s...|[the, 1928, unite...|\n",
            "|    USA|         1932|\"the 1932 united ...|franklin d. roose...|     democratic|       1802| the 1932 united ...|[, the, 1932, uni...|\n",
            "|    USA|         1936|the 1936 united s...|franklin d. roose...|     democratic|       1334|the 1936 united s...|[the, 1936, unite...|\n",
            "|    USA|         1940|the 1940 united s...|franklin d. roose...|     democratic|       1893|the 1940 united s...|[the, 1940, unite...|\n",
            "|    USA|         1944|the 1944 united s...|     harry s. truman|     democratic|       1940|the 1944 united s...|[the, 1944, unite...|\n",
            "|    USA|         1948|\"the 1948 united ...|     harry s. truman|     democratic|       1071| the 1948 united ...|[, the, 1948, uni...|\n",
            "|    USA|         1952|\"the 1952 united ...|dwight d. eisenhower|     republican|       1734| the 1952 united ...|[, the, 1952, uni...|\n",
            "|    USA|         1956|\"the 1956 united ...|dwight d. eisenhower|     republican|       1388| the 1956 united ...|[, the, 1956, uni...|\n",
            "|    USA|         1960|the 1960 united s...|     john f. kennedy|     democratic|       3958|the 1960 united s...|[the, 1960, unite...|\n",
            "|    USA|         1964|\"the 1964 united ...|   lyndon b. johnson|     democratic|       1655| the 1964 united ...|[, the, 1964, uni...|\n",
            "|    USA|         1968|\"the 1968 united ...|       richard nixon|     republican|       1409| the 1968 united ...|[, the, 1968, uni...|\n",
            "|    USA|         1972|the 1972 united s...|       richard nixon|     republican|       2211|the 1972 united s...|[the, 1972, unite...|\n",
            "|    USA|         1976|\"the 1976 united ...|        jimmy carter|     democratic|       1228| the 1976 united ...|[, the, 1976, uni...|\n",
            "+-------+-------------+--------------------+--------------------+---------------+-----------+--------------------+--------------------+\n",
            "only showing top 20 rows\n",
            "\n"
          ]
        }
      ]
    },
    {
      "cell_type": "markdown",
      "source": [
        "Removing stop words"
      ],
      "metadata": {
        "id": "RYQGZmsEsPDb"
      }
    },
    {
      "cell_type": "code",
      "source": [
        "sw_remover = StopWordsRemover(inputCol='summary_tokens',outputCol='no_stop_summary')\n",
        "df_tokens = sw_remover.transform(df_tokens)\n",
        "df_tokens.show()"
      ],
      "metadata": {
        "colab": {
          "base_uri": "https://localhost:8080/"
        },
        "id": "4Op65pSgpzgU",
        "outputId": "b5a8433b-8ac3-4d67-ef96-e8606f076665"
      },
      "execution_count": 50,
      "outputs": [
        {
          "output_type": "stream",
          "name": "stdout",
          "text": [
            "+-------+-------------+--------------------+--------------------+---------------+-----------+--------------------+--------------------+--------------------+\n",
            "|country|election_year|             summary|   elected_president|candidate_party|len_summary|     cleaned_summary|      summary_tokens|     no_stop_summary|\n",
            "+-------+-------------+--------------------+--------------------+---------------+-----------+--------------------+--------------------+--------------------+\n",
            "|    USA|         1900|the 1900 united s...|  theodore roosevelt|     republican|       1816|the 1900 united s...|[the, 1900, unite...|[1900, united, st...|\n",
            "|    USA|         1904|\"the 1904 united ...|  theodore roosevelt|     republican|       1499| the 1904 united ...|[, the, 1904, uni...|[, 1904, united, ...|\n",
            "|    USA|         1908|the 1908 united s...| william howard taft|     republican|       1390|the 1908 united s...|[the, 1908, unite...|[1908, united, st...|\n",
            "|    USA|         1912|\"the 1912 united ...|      woodrow wilson|     democratic|        470| the 1912 united ...|[, the, 1912, uni...|[, 1912, united, ...|\n",
            "|    USA|         1916|\"the 1916 united ...|      woodrow wilson|     democratic|       2116| the 1916 united ...|[, the, 1916, uni...|[, 1916, united, ...|\n",
            "|    USA|         1920|\"the 1920 united ...|   warren g. harding|     republican|       2771| the 1920 united ...|[, the, 1920, uni...|[, 1920, united, ...|\n",
            "|    USA|         1924|\"the 1924 united ...|     calvin coolidge|     republican|       1153| the 1924 united ...|[, the, 1924, uni...|[, 1924, united, ...|\n",
            "|    USA|         1928|the 1928 united s...|      herbert hoover|     republican|       2105|the 1928 united s...|[the, 1928, unite...|[1928, united, st...|\n",
            "|    USA|         1932|\"the 1932 united ...|franklin d. roose...|     democratic|       1802| the 1932 united ...|[, the, 1932, uni...|[, 1932, united, ...|\n",
            "|    USA|         1936|the 1936 united s...|franklin d. roose...|     democratic|       1334|the 1936 united s...|[the, 1936, unite...|[1936, united, st...|\n",
            "|    USA|         1940|the 1940 united s...|franklin d. roose...|     democratic|       1893|the 1940 united s...|[the, 1940, unite...|[1940, united, st...|\n",
            "|    USA|         1944|the 1944 united s...|     harry s. truman|     democratic|       1940|the 1944 united s...|[the, 1944, unite...|[1944, united, st...|\n",
            "|    USA|         1948|\"the 1948 united ...|     harry s. truman|     democratic|       1071| the 1948 united ...|[, the, 1948, uni...|[, 1948, united, ...|\n",
            "|    USA|         1952|\"the 1952 united ...|dwight d. eisenhower|     republican|       1734| the 1952 united ...|[, the, 1952, uni...|[, 1952, united, ...|\n",
            "|    USA|         1956|\"the 1956 united ...|dwight d. eisenhower|     republican|       1388| the 1956 united ...|[, the, 1956, uni...|[, 1956, united, ...|\n",
            "|    USA|         1960|the 1960 united s...|     john f. kennedy|     democratic|       3958|the 1960 united s...|[the, 1960, unite...|[1960, united, st...|\n",
            "|    USA|         1964|\"the 1964 united ...|   lyndon b. johnson|     democratic|       1655| the 1964 united ...|[, the, 1964, uni...|[, 1964, united, ...|\n",
            "|    USA|         1968|\"the 1968 united ...|       richard nixon|     republican|       1409| the 1968 united ...|[, the, 1968, uni...|[, 1968, united, ...|\n",
            "|    USA|         1972|the 1972 united s...|       richard nixon|     republican|       2211|the 1972 united s...|[the, 1972, unite...|[1972, united, st...|\n",
            "|    USA|         1976|\"the 1976 united ...|        jimmy carter|     democratic|       1228| the 1976 united ...|[, the, 1976, uni...|[, 1976, united, ...|\n",
            "+-------+-------------+--------------------+--------------------+---------------+-----------+--------------------+--------------------+--------------------+\n",
            "only showing top 20 rows\n",
            "\n"
          ]
        }
      ]
    },
    {
      "cell_type": "markdown",
      "source": [
        "Future implementations:\n",
        "\n",
        "\n",
        "1.   Can include information from other countries,starting from North American region.\n",
        "2.   Extend this usecase by combining with different data; such as GDP growth, unemployment rate, crime rate etc to compare them with various presidential terms.\n",
        "3.   Implement NLP algorithms on the summary like, Tf-Idf, phrase extraction.\n",
        "\n"
      ],
      "metadata": {
        "id": "F7wCIr_NtjwM"
      }
    },
    {
      "cell_type": "code",
      "source": [],
      "metadata": {
        "id": "7XxI4arBuof_"
      },
      "execution_count": null,
      "outputs": []
    }
  ]
}